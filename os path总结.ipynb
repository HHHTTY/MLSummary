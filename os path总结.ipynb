{
 "cells": [
  {
   "cell_type": "code",
   "execution_count": 1,
   "id": "7e095864",
   "metadata": {},
   "outputs": [],
   "source": [
    "import os"
   ]
  },
  {
   "cell_type": "code",
   "execution_count": 2,
   "id": "69b967ea",
   "metadata": {},
   "outputs": [
    {
     "data": {
      "text/plain": [
       "'E:\\\\Mlearning\\\\Mycode\\\\jupyter\\\\CNN\\\\pytorch\\\\exmaple.jpg'"
      ]
     },
     "execution_count": 2,
     "metadata": {},
     "output_type": "execute_result"
    }
   ],
   "source": [
    "# 返回文件的绝对路径\n",
    "file_abspath = os.path.abspath('exmaple.jpg')\n",
    "file_abspath"
   ]
  },
  {
   "cell_type": "code",
   "execution_count": 4,
   "id": "a91fead6",
   "metadata": {},
   "outputs": [
    {
     "data": {
      "text/plain": [
       "''"
      ]
     },
     "execution_count": 4,
     "metadata": {},
     "output_type": "execute_result"
    }
   ],
   "source": [
    "# 返回文件名\n",
    "# 当最后一级为文件时\n",
    "file_basename = os.path.basename('./example.jpg')\n",
    "file_basename\n",
    "# 当最后一级为路径时\n",
    "file_basename2 = os.path.basename('E:\\Mlearning\\Mycode\\jupyter\\CNN\\pytorch\\\\')\n",
    "file_basename2              "
   ]
  },
  {
   "cell_type": "code",
   "execution_count": 11,
   "id": "a63b8db8",
   "metadata": {},
   "outputs": [
    {
     "data": {
      "text/plain": [
       "'E:\\\\Mlearning\\\\Mycode\\\\jupyter\\\\CNN\\\\pytorch'"
      ]
     },
     "execution_count": 11,
     "metadata": {},
     "output_type": "execute_result"
    }
   ],
   "source": [
    "# 返回文件路径\n",
    "dir_name = os.path.dirname(r'E:\\Mlearning\\Mycode\\jupyter\\CNN\\pytorch\\example.jpg')\n",
    "dir_name"
   ]
  },
  {
   "cell_type": "code",
   "execution_count": null,
   "id": "89de6917",
   "metadata": {},
   "outputs": [],
   "source": []
  }
 ],
 "metadata": {
  "kernelspec": {
   "display_name": "pytorch-gpu",
   "language": "python",
   "name": "pytorch-gpu"
  },
  "language_info": {
   "codemirror_mode": {
    "name": "ipython",
    "version": 3
   },
   "file_extension": ".py",
   "mimetype": "text/x-python",
   "name": "python",
   "nbconvert_exporter": "python",
   "pygments_lexer": "ipython3",
   "version": "3.8.11"
  }
 },
 "nbformat": 4,
 "nbformat_minor": 5
}
