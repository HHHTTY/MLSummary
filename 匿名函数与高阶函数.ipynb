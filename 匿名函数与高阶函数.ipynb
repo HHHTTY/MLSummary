{
 "cells": [
  {
   "cell_type": "markdown",
   "id": "f148c689",
   "metadata": {},
   "source": [
    "### 匿名函数与高阶函数"
   ]
  },
  {
   "cell_type": "markdown",
   "id": "1579d97f",
   "metadata": {},
   "source": [
    "### 1.匿名函数：lambda params: expression"
   ]
  },
  {
   "cell_type": "code",
   "execution_count": 1,
   "id": "3bbda3a0",
   "metadata": {},
   "outputs": [
    {
     "data": {
      "text/plain": [
       "6"
      ]
     },
     "execution_count": 1,
     "metadata": {},
     "output_type": "execute_result"
    }
   ],
   "source": [
    "## 例子\n",
    "## 求两个参数之和\n",
    "f = lambda x, y: x+y\n",
    "f(1, 5)"
   ]
  },
  {
   "cell_type": "code",
   "execution_count": 4,
   "id": "6ccfc134",
   "metadata": {},
   "outputs": [
    {
     "data": {
      "text/plain": [
       "[('a', 1), ('c', 3), ('d', 4), ('e', 6)]"
      ]
     },
     "execution_count": 4,
     "metadata": {},
     "output_type": "execute_result"
    }
   ],
   "source": [
    "## 例子\n",
    "## 排序\n",
    "test_list = [('a', 1), ('c', 3), ('d', 4), ('e', 6)]\n",
    "sorted(test_list, key=lambda x:x[1], reverse=False)"
   ]
  },
  {
   "cell_type": "markdown",
   "id": "79839879",
   "metadata": {},
   "source": [
    "### 2.高阶函数"
   ]
  },
  {
   "cell_type": "code",
   "execution_count": 8,
   "id": "497e8ae8",
   "metadata": {},
   "outputs": [],
   "source": [
    "### map\n",
    "### 用于对可迭代对象中的每个元素进行操作时调用\n",
    "new_list = map(lambda x: x[1], test_list)"
   ]
  },
  {
   "cell_type": "code",
   "execution_count": 9,
   "id": "65ca8fd4",
   "metadata": {},
   "outputs": [
    {
     "data": {
      "text/plain": [
       "[1, 3, 4, 6]"
      ]
     },
     "execution_count": 9,
     "metadata": {},
     "output_type": "execute_result"
    }
   ],
   "source": [
    "list(new_list)"
   ]
  },
  {
   "cell_type": "code",
   "execution_count": 11,
   "id": "0f1fb2fe",
   "metadata": {},
   "outputs": [
    {
     "data": {
      "text/plain": [
       "55"
      ]
     },
     "execution_count": 11,
     "metadata": {},
     "output_type": "execute_result"
    }
   ],
   "source": [
    "## reduce\n",
    "from functools import reduce\n",
    "reduce(lambda x, y: x+y, range(1, 11))"
   ]
  },
  {
   "cell_type": "code",
   "execution_count": 14,
   "id": "2b4d7934",
   "metadata": {},
   "outputs": [
    {
     "data": {
      "text/plain": [
       "'defabc'"
      ]
     },
     "execution_count": 14,
     "metadata": {},
     "output_type": "execute_result"
    }
   ],
   "source": [
    "reduce(lambda x, y: x+y, ['a', 'b', 'c'], 'def')"
   ]
  },
  {
   "cell_type": "code",
   "execution_count": 18,
   "id": "80cda5c4",
   "metadata": {},
   "outputs": [
    {
     "data": {
      "text/plain": [
       "[1, 3, 4, 5]"
      ]
     },
     "execution_count": 18,
     "metadata": {},
     "output_type": "execute_result"
    }
   ],
   "source": [
    "## filter\n",
    "test_list = [1, 2, 2, 3, 4, 5]\n",
    "a = filter(lambda x: False if x==2 else True, test_list)\n",
    "list(a)"
   ]
  },
  {
   "cell_type": "code",
   "execution_count": null,
   "id": "0bd2c64f",
   "metadata": {},
   "outputs": [],
   "source": []
  }
 ],
 "metadata": {
  "kernelspec": {
   "display_name": "torch",
   "language": "python",
   "name": "torch"
  },
  "language_info": {
   "codemirror_mode": {
    "name": "ipython",
    "version": 3
   },
   "file_extension": ".py",
   "mimetype": "text/x-python",
   "name": "python",
   "nbconvert_exporter": "python",
   "pygments_lexer": "ipython3",
   "version": "3.9.12"
  }
 },
 "nbformat": 4,
 "nbformat_minor": 5
}
